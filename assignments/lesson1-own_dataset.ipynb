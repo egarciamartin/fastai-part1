{
 "cells": [
  {
   "cell_type": "markdown",
   "metadata": {},
   "source": [
    "# Lesson 1 - Own Image dataset\n",
    "\n"
   ]
  },
  {
   "cell_type": "markdown",
   "metadata": {},
   "source": [
    "The goal of this assignment is to create my own image dataset and use ResNet to classify the images"
   ]
  },
  {
   "cell_type": "code",
   "execution_count": 4,
   "metadata": {},
   "outputs": [],
   "source": [
    "%reload_ext autoreload\n",
    "%autoreload 2\n",
    "%matplotlib inline"
   ]
  },
  {
   "cell_type": "markdown",
   "metadata": {},
   "source": [
    "## Get images from Google Images: \n",
    "https://forums.fast.ai/t/tips-for-building-large-image-datasets/26688\n",
    "I ran into some errors, especially to install both Chrome and Chromedriver from the command line.\n",
    "What worked:\n",
    "1. ``pip install google_images_download``\n",
    "2. go to: https://chromedriver.storage.googleapis.com/index.html?path=73.0.3683.20/\n",
    "3. Download chromedriver_linux64.zip , unzip it and add the chromedriver binary file to: /usr/local/bin\n",
    "4. Install chrome following this thread: https://askubuntu.com/questions/79280/how-to-install-chrome-browser-properly-via-command-line (first or second answer)\n",
    "5. Finally, run: ``googleimagesdownload -k \"denmark landscape\" -s medium -wr '{\"time_min\":\"09/01/2018\",\"time_max\":\"11/1/2018\"}' -l 350 -o assignments/lesson1-images/denmark/ -cd /usr/local/bin/chromedriver``\n",
    "\n",
    "*Note: I could only download 391, so for the next seach I downloaded 391 to have the same number of images*"
   ]
  },
  {
   "cell_type": "markdown",
   "metadata": {},
   "source": [
    "Idea: Have pictures of Swedish, Danish, and Norwegian landscapes, see if the classifier can classify them correctly"
   ]
  },
  {
   "cell_type": "code",
   "execution_count": null,
   "metadata": {},
   "outputs": [],
   "source": []
  }
 ],
 "metadata": {
  "kernelspec": {
   "display_name": "Python 3",
   "language": "python",
   "name": "python3"
  },
  "language_info": {
   "codemirror_mode": {
    "name": "ipython",
    "version": 3
   },
   "file_extension": ".py",
   "mimetype": "text/x-python",
   "name": "python",
   "nbconvert_exporter": "python",
   "pygments_lexer": "ipython3",
   "version": "3.7.1"
  }
 },
 "nbformat": 4,
 "nbformat_minor": 2
}
